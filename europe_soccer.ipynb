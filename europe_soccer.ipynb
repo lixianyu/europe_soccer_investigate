{
 "cells": [
  {
   "cell_type": "markdown",
   "metadata": {},
   "source": [
    "# 项目：欧洲国家足球分析\n",
    "\n",
    "## 目录\n",
    "<ul>\n",
    "<li><a href=\"#intro\">简介</a></li>\n",
    "<li><a href=\"#wrangling\">数据整理</a></li>\n",
    "<li><a href=\"#eda\">探索性数据分析</a></li>\n",
    "<li><a href=\"#conclusions\">结论</a></li>\n",
    "</ul>\n",
    "\n",
    "<a id='intro'></a>\n",
    "## 简介\n",
    "\n",
    "> 这个足球数据库来自 [Kaggle](https://www.kaggle.com/hugomathien/soccer)，它包含了从2008年到2016年间，几个欧洲国家的足球比赛（soccer matches）、球员（players）和球队（teams）的数据。该数据库存储在 SQLite 数据库中。\n",
    "\n",
    "**该报告主要分析如下内容**\n",
    "- 哪支球队在这段时间内的表现最好？ \n",
    "- 哪位球员受罚最多？"
   ]
  },
  {
   "cell_type": "code",
   "execution_count": 1,
   "metadata": {},
   "outputs": [],
   "source": [
    "import numpy as np\n",
    "import pandas as pd\n",
    "import sqlite3\n",
    "import matplotlib.pyplot as plt\n",
    "% matplotlib inline\n",
    "import seaborn as sns\n",
    "sns.set_style('darkgrid')\n",
    "\n",
    "database = 'database.sqlite'"
   ]
  },
  {
   "cell_type": "markdown",
   "metadata": {},
   "source": [
    "<a id='wrangling'></a>\n",
    "## 数据整理\n"
   ]
  },
  {
   "cell_type": "code",
   "execution_count": 2,
   "metadata": {},
   "outputs": [],
   "source": [
    "#连接数据库\n",
    "conn = sqlite3.connect(database)"
   ]
  },
  {
   "cell_type": "code",
   "execution_count": 3,
   "metadata": {},
   "outputs": [
    {
     "data": {
      "text/html": [
       "<div>\n",
       "<style scoped>\n",
       "    .dataframe tbody tr th:only-of-type {\n",
       "        vertical-align: middle;\n",
       "    }\n",
       "\n",
       "    .dataframe tbody tr th {\n",
       "        vertical-align: top;\n",
       "    }\n",
       "\n",
       "    .dataframe thead th {\n",
       "        text-align: right;\n",
       "    }\n",
       "</style>\n",
       "<table border=\"1\" class=\"dataframe\">\n",
       "  <thead>\n",
       "    <tr style=\"text-align: right;\">\n",
       "      <th></th>\n",
       "      <th>type</th>\n",
       "      <th>name</th>\n",
       "      <th>tbl_name</th>\n",
       "      <th>rootpage</th>\n",
       "      <th>sql</th>\n",
       "    </tr>\n",
       "  </thead>\n",
       "  <tbody>\n",
       "    <tr>\n",
       "      <th>0</th>\n",
       "      <td>table</td>\n",
       "      <td>sqlite_sequence</td>\n",
       "      <td>sqlite_sequence</td>\n",
       "      <td>4</td>\n",
       "      <td>CREATE TABLE sqlite_sequence(name,seq)</td>\n",
       "    </tr>\n",
       "    <tr>\n",
       "      <th>1</th>\n",
       "      <td>table</td>\n",
       "      <td>Player_Attributes</td>\n",
       "      <td>Player_Attributes</td>\n",
       "      <td>11</td>\n",
       "      <td>CREATE TABLE \"Player_Attributes\" (\\n\\t`id`\\tIN...</td>\n",
       "    </tr>\n",
       "    <tr>\n",
       "      <th>2</th>\n",
       "      <td>table</td>\n",
       "      <td>Player</td>\n",
       "      <td>Player</td>\n",
       "      <td>14</td>\n",
       "      <td>CREATE TABLE `Player` (\\n\\t`id`\\tINTEGER PRIMA...</td>\n",
       "    </tr>\n",
       "    <tr>\n",
       "      <th>3</th>\n",
       "      <td>table</td>\n",
       "      <td>Match</td>\n",
       "      <td>Match</td>\n",
       "      <td>18</td>\n",
       "      <td>CREATE TABLE `Match` (\\n\\t`id`\\tINTEGER PRIMAR...</td>\n",
       "    </tr>\n",
       "    <tr>\n",
       "      <th>4</th>\n",
       "      <td>table</td>\n",
       "      <td>League</td>\n",
       "      <td>League</td>\n",
       "      <td>24</td>\n",
       "      <td>CREATE TABLE `League` (\\n\\t`id`\\tINTEGER PRIMA...</td>\n",
       "    </tr>\n",
       "    <tr>\n",
       "      <th>5</th>\n",
       "      <td>table</td>\n",
       "      <td>Country</td>\n",
       "      <td>Country</td>\n",
       "      <td>26</td>\n",
       "      <td>CREATE TABLE `Country` (\\n\\t`id`\\tINTEGER PRIM...</td>\n",
       "    </tr>\n",
       "    <tr>\n",
       "      <th>6</th>\n",
       "      <td>table</td>\n",
       "      <td>Team</td>\n",
       "      <td>Team</td>\n",
       "      <td>29</td>\n",
       "      <td>CREATE TABLE \"Team\" (\\n\\t`id`\\tINTEGER PRIMARY...</td>\n",
       "    </tr>\n",
       "    <tr>\n",
       "      <th>7</th>\n",
       "      <td>table</td>\n",
       "      <td>Team_Attributes</td>\n",
       "      <td>Team_Attributes</td>\n",
       "      <td>2</td>\n",
       "      <td>CREATE TABLE `Team_Attributes` (\\n\\t`id`\\tINTE...</td>\n",
       "    </tr>\n",
       "  </tbody>\n",
       "</table>\n",
       "</div>"
      ],
      "text/plain": [
       "    type               name           tbl_name  rootpage  \\\n",
       "0  table    sqlite_sequence    sqlite_sequence         4   \n",
       "1  table  Player_Attributes  Player_Attributes        11   \n",
       "2  table             Player             Player        14   \n",
       "3  table              Match              Match        18   \n",
       "4  table             League             League        24   \n",
       "5  table            Country            Country        26   \n",
       "6  table               Team               Team        29   \n",
       "7  table    Team_Attributes    Team_Attributes         2   \n",
       "\n",
       "                                                 sql  \n",
       "0             CREATE TABLE sqlite_sequence(name,seq)  \n",
       "1  CREATE TABLE \"Player_Attributes\" (\\n\\t`id`\\tIN...  \n",
       "2  CREATE TABLE `Player` (\\n\\t`id`\\tINTEGER PRIMA...  \n",
       "3  CREATE TABLE `Match` (\\n\\t`id`\\tINTEGER PRIMAR...  \n",
       "4  CREATE TABLE `League` (\\n\\t`id`\\tINTEGER PRIMA...  \n",
       "5  CREATE TABLE `Country` (\\n\\t`id`\\tINTEGER PRIM...  \n",
       "6  CREATE TABLE \"Team\" (\\n\\t`id`\\tINTEGER PRIMARY...  \n",
       "7  CREATE TABLE `Team_Attributes` (\\n\\t`id`\\tINTE...  "
      ]
     },
     "execution_count": 3,
     "metadata": {},
     "output_type": "execute_result"
    }
   ],
   "source": [
    "#先看一下都有哪些table\n",
    "tables = pd.read_sql(\"\"\"SELECT *\n",
    "                        FROM sqlite_master\n",
    "                        WHERE type='table';\"\"\", conn)\n",
    "tables"
   ]
  },
  {
   "cell_type": "markdown",
   "metadata": {},
   "source": [
    "### 得到各个表的DataFrame"
   ]
  },
  {
   "cell_type": "code",
   "execution_count": 4,
   "metadata": {},
   "outputs": [],
   "source": [
    "# 得到DataFrame\n",
    "countries = pd.read_sql(\"\"\"SELECT *\n",
    "                        FROM Country;\"\"\", conn)\n",
    "leagues = pd.read_sql(\"\"\"SELECT *\n",
    "                        FROM League;\"\"\", conn)\n",
    "matches = pd.read_sql(\"\"\"SELECT *\n",
    "                        FROM Match;\"\"\", conn)\n",
    "players = pd.read_sql(\"\"\"SELECT *\n",
    "                        FROM Player;\"\"\", conn)\n",
    "player_attributes = pd.read_sql(\"\"\"SELECT *\n",
    "                        FROM Player_Attributes;\"\"\", conn)\n",
    "teams = pd.read_sql(\"\"\"SELECT *\n",
    "                        FROM Team;\"\"\", conn)\n",
    "team_attributes = pd.read_sql(\"\"\"SELECT *\n",
    "                        FROM Team_Attributes;\"\"\", conn)"
   ]
  },
  {
   "cell_type": "code",
   "execution_count": 5,
   "metadata": {},
   "outputs": [],
   "source": [
    "# 在Notebook中显示更多的行和列\n",
    "pd.set_option('max_rows', 300)\n",
    "pd.set_option('max_columns', 120)\n",
    "pd.set_option('max_colwidth',1500)"
   ]
  },
  {
   "cell_type": "markdown",
   "metadata": {},
   "source": [
    "\n",
    "### 因为Match、Country和League这3个表格是分开的，所以需要合并到一起以得到含有国家名及联赛的名字。利用SQL的'JOIN'指令即可完成此合并。\n"
   ]
  },
  {
   "cell_type": "code",
   "execution_count": 6,
   "metadata": {},
   "outputs": [
    {
     "data": {
      "text/html": [
       "<div>\n",
       "<style scoped>\n",
       "    .dataframe tbody tr th:only-of-type {\n",
       "        vertical-align: middle;\n",
       "    }\n",
       "\n",
       "    .dataframe tbody tr th {\n",
       "        vertical-align: top;\n",
       "    }\n",
       "\n",
       "    .dataframe thead th {\n",
       "        text-align: right;\n",
       "    }\n",
       "</style>\n",
       "<table border=\"1\" class=\"dataframe\">\n",
       "  <thead>\n",
       "    <tr style=\"text-align: right;\">\n",
       "      <th></th>\n",
       "      <th>id</th>\n",
       "      <th>country_name</th>\n",
       "      <th>league_name</th>\n",
       "      <th>season</th>\n",
       "      <th>stage</th>\n",
       "      <th>date</th>\n",
       "      <th>home_team</th>\n",
       "      <th>away_team</th>\n",
       "      <th>home_team_goal</th>\n",
       "      <th>away_team_goal</th>\n",
       "      <th>winner</th>\n",
       "    </tr>\n",
       "  </thead>\n",
       "  <tbody>\n",
       "    <tr>\n",
       "      <th>0</th>\n",
       "      <td>24559</td>\n",
       "      <td>Switzerland</td>\n",
       "      <td>Switzerland Super League</td>\n",
       "      <td>2008/2009</td>\n",
       "      <td>1</td>\n",
       "      <td>2008-07-18 00:00:00</td>\n",
       "      <td>BSC Young Boys</td>\n",
       "      <td>FC Basel</td>\n",
       "      <td>1</td>\n",
       "      <td>2</td>\n",
       "      <td>FC Basel</td>\n",
       "    </tr>\n",
       "    <tr>\n",
       "      <th>1</th>\n",
       "      <td>24560</td>\n",
       "      <td>Switzerland</td>\n",
       "      <td>Switzerland Super League</td>\n",
       "      <td>2008/2009</td>\n",
       "      <td>1</td>\n",
       "      <td>2008-07-19 00:00:00</td>\n",
       "      <td>FC Aarau</td>\n",
       "      <td>FC Sion</td>\n",
       "      <td>3</td>\n",
       "      <td>1</td>\n",
       "      <td>FC Aarau</td>\n",
       "    </tr>\n",
       "    <tr>\n",
       "      <th>2</th>\n",
       "      <td>24561</td>\n",
       "      <td>Switzerland</td>\n",
       "      <td>Switzerland Super League</td>\n",
       "      <td>2008/2009</td>\n",
       "      <td>1</td>\n",
       "      <td>2008-07-20 00:00:00</td>\n",
       "      <td>FC Luzern</td>\n",
       "      <td>FC Vaduz</td>\n",
       "      <td>1</td>\n",
       "      <td>2</td>\n",
       "      <td>FC Vaduz</td>\n",
       "    </tr>\n",
       "    <tr>\n",
       "      <th>3</th>\n",
       "      <td>24562</td>\n",
       "      <td>Switzerland</td>\n",
       "      <td>Switzerland Super League</td>\n",
       "      <td>2008/2009</td>\n",
       "      <td>1</td>\n",
       "      <td>2008-07-20 00:00:00</td>\n",
       "      <td>Neuchâtel Xamax</td>\n",
       "      <td>FC Zürich</td>\n",
       "      <td>1</td>\n",
       "      <td>2</td>\n",
       "      <td>FC Zürich</td>\n",
       "    </tr>\n",
       "    <tr>\n",
       "      <th>4</th>\n",
       "      <td>24613</td>\n",
       "      <td>Switzerland</td>\n",
       "      <td>Switzerland Super League</td>\n",
       "      <td>2008/2009</td>\n",
       "      <td>2</td>\n",
       "      <td>2008-07-23 00:00:00</td>\n",
       "      <td>FC Basel</td>\n",
       "      <td>Grasshopper Club Zürich</td>\n",
       "      <td>1</td>\n",
       "      <td>0</td>\n",
       "      <td>FC Basel</td>\n",
       "    </tr>\n",
       "  </tbody>\n",
       "</table>\n",
       "</div>"
      ],
      "text/plain": [
       "      id country_name               league_name     season  stage  \\\n",
       "0  24559  Switzerland  Switzerland Super League  2008/2009      1   \n",
       "1  24560  Switzerland  Switzerland Super League  2008/2009      1   \n",
       "2  24561  Switzerland  Switzerland Super League  2008/2009      1   \n",
       "3  24562  Switzerland  Switzerland Super League  2008/2009      1   \n",
       "4  24613  Switzerland  Switzerland Super League  2008/2009      2   \n",
       "\n",
       "                  date        home_team                away_team  \\\n",
       "0  2008-07-18 00:00:00   BSC Young Boys                 FC Basel   \n",
       "1  2008-07-19 00:00:00         FC Aarau                  FC Sion   \n",
       "2  2008-07-20 00:00:00        FC Luzern                 FC Vaduz   \n",
       "3  2008-07-20 00:00:00  Neuchâtel Xamax                FC Zürich   \n",
       "4  2008-07-23 00:00:00         FC Basel  Grasshopper Club Zürich   \n",
       "\n",
       "   home_team_goal  away_team_goal     winner  \n",
       "0               1               2   FC Basel  \n",
       "1               3               1   FC Aarau  \n",
       "2               1               2   FC Vaduz  \n",
       "3               1               2  FC Zürich  \n",
       "4               1               0   FC Basel  "
      ]
     },
     "execution_count": 6,
     "metadata": {},
     "output_type": "execute_result"
    }
   ],
   "source": [
    "detailed_matches = pd.read_sql(\"\"\"SELECT Match.id, \n",
    "                                        Country.name AS country_name, \n",
    "                                        League.name AS league_name, \n",
    "                                        season, \n",
    "                                        stage, \n",
    "                                        date,\n",
    "                                        HT.team_long_name AS  home_team,\n",
    "                                        AT.team_long_name AS away_team,\n",
    "                                        home_team_goal, \n",
    "                                        away_team_goal,\n",
    "                                        CASE WHEN home_team_goal > away_team_goal THEN HT.team_long_name\n",
    "                                             WHEN home_team_goal = away_team_goal THEN 'all_win'\n",
    "                                             ELSE AT.team_long_name END AS winner\n",
    "                                FROM Match\n",
    "                                JOIN Country on Country.id = Match.country_id\n",
    "                                JOIN League on League.id = Match.league_id\n",
    "                                LEFT JOIN Team AS HT on HT.team_api_id = Match.home_team_api_id\n",
    "                                LEFT JOIN Team AS AT on AT.team_api_id = Match.away_team_api_id\n",
    "                                \n",
    "                                ORDER by date\n",
    "                                ;\"\"\", conn)\n",
    "# detailed_matches.tail()\n",
    "detailed_matches.head()"
   ]
  },
  {
   "cell_type": "markdown",
   "metadata": {},
   "source": [
    "### 把date格式改为datetime64的格式"
   ]
  },
  {
   "cell_type": "code",
   "execution_count": 8,
   "metadata": {},
   "outputs": [],
   "source": [
    "detailed_matches['date'] = pd.to_datetime(detailed_matches['date'])"
   ]
  },
  {
   "cell_type": "code",
   "execution_count": 9,
   "metadata": {},
   "outputs": [
    {
     "name": "stdout",
     "output_type": "stream",
     "text": [
      "<class 'pandas.core.frame.DataFrame'>\n",
      "RangeIndex: 25979 entries, 0 to 25978\n",
      "Data columns (total 11 columns):\n",
      "id                25979 non-null int64\n",
      "country_name      25979 non-null object\n",
      "league_name       25979 non-null object\n",
      "season            25979 non-null object\n",
      "stage             25979 non-null int64\n",
      "date              25979 non-null datetime64[ns]\n",
      "home_team         25979 non-null object\n",
      "away_team         25979 non-null object\n",
      "home_team_goal    25979 non-null int64\n",
      "away_team_goal    25979 non-null int64\n",
      "winner            25979 non-null object\n",
      "dtypes: datetime64[ns](1), int64(4), object(6)\n",
      "memory usage: 2.2+ MB\n"
     ]
    }
   ],
   "source": [
    "detailed_matches.info()"
   ]
  },
  {
   "cell_type": "markdown",
   "metadata": {},
   "source": [
    "### 检查是否有重复的行"
   ]
  },
  {
   "cell_type": "code",
   "execution_count": 10,
   "metadata": {},
   "outputs": [
    {
     "data": {
      "text/plain": [
       "0"
      ]
     },
     "execution_count": 10,
     "metadata": {},
     "output_type": "execute_result"
    }
   ],
   "source": [
    "sum(detailed_matches.duplicated())"
   ]
  },
  {
   "cell_type": "markdown",
   "metadata": {},
   "source": [
    "### 检查是否有NaN"
   ]
  },
  {
   "cell_type": "code",
   "execution_count": 13,
   "metadata": {},
   "outputs": [
    {
     "data": {
      "text/html": [
       "<div>\n",
       "<style scoped>\n",
       "    .dataframe tbody tr th:only-of-type {\n",
       "        vertical-align: middle;\n",
       "    }\n",
       "\n",
       "    .dataframe tbody tr th {\n",
       "        vertical-align: top;\n",
       "    }\n",
       "\n",
       "    .dataframe thead th {\n",
       "        text-align: right;\n",
       "    }\n",
       "</style>\n",
       "<table border=\"1\" class=\"dataframe\">\n",
       "  <thead>\n",
       "    <tr style=\"text-align: right;\">\n",
       "      <th></th>\n",
       "      <th>id</th>\n",
       "      <th>country_name</th>\n",
       "      <th>league_name</th>\n",
       "      <th>season</th>\n",
       "      <th>stage</th>\n",
       "      <th>date</th>\n",
       "      <th>home_team</th>\n",
       "      <th>away_team</th>\n",
       "      <th>home_team_goal</th>\n",
       "      <th>away_team_goal</th>\n",
       "      <th>winner</th>\n",
       "    </tr>\n",
       "  </thead>\n",
       "  <tbody>\n",
       "  </tbody>\n",
       "</table>\n",
       "</div>"
      ],
      "text/plain": [
       "Empty DataFrame\n",
       "Columns: [id, country_name, league_name, season, stage, date, home_team, away_team, home_team_goal, away_team_goal, winner]\n",
       "Index: []"
      ]
     },
     "execution_count": 13,
     "metadata": {},
     "output_type": "execute_result"
    }
   ],
   "source": [
    "detailed_matches[detailed_matches.home_team_goal.isna()]"
   ]
  },
  {
   "cell_type": "markdown",
   "metadata": {},
   "source": [
    "<a id='eda'></a>\n",
    "## 探索性数据分析\n",
    "\n",
    "\n",
    "### 哪支球队在这段时间内的表现最好？"
   ]
  },
  {
   "cell_type": "code",
   "execution_count": 14,
   "metadata": {},
   "outputs": [
    {
     "data": {
      "image/png": "[encoded data removed]",
      "text/plain": [
       "<Figure size 1296x576 with 1 Axes>"
      ]
     },
     "metadata": {},
     "output_type": "display_data"
    }
   ],
   "source": [
    "group_home = detailed_matches.groupby('home_team')\n",
    "# group_home = detailed_matches.groupby(['home_team','league_name'])\n",
    "all_goal_home1 = group_home.sum()['home_team_goal']\n",
    "all_goal_home2 = group_home.sum()['away_team_goal']\n",
    "all_goal_home = all_goal_home1 + all_goal_home2\n",
    "\n",
    "group_away = detailed_matches.groupby('away_team')\n",
    "# group_away = detailed_matches.groupby(['away_team', 'league_name'])\n",
    "all_goal_away1 = group_away.sum()['home_team_goal']\n",
    "all_goal_away2 = group_away.sum()['away_team_goal']\n",
    "all_goal_away = all_goal_away1 + all_goal_away2\n",
    "\n",
    "all_goal = all_goal_home + all_goal_away\n",
    "goal_max = all_goal.sort_values(ascending = False).head(10)\n",
    "goal_max.plot(kind='bar', figsize=(18,8));\n",
    "# all_goal.plot(kind='hist')"
   ]
  },
  {
   "cell_type": "code",
   "execution_count": 43,
   "metadata": {},
   "outputs": [
    {
     "data": {
      "text/plain": [
       "home_team\n",
       "Real Madrid CF      1147\n",
       "FC Barcelona        1081\n",
       "PSV                  946\n",
       "FC Basel             930\n",
       "SC Heerenveen        925\n",
       "Celtic               918\n",
       "Manchester City      913\n",
       "BSC Young Boys       902\n",
       "SV Werder Bremen     894\n",
       "Arsenal              893\n",
       "dtype: int64"
      ]
     },
     "execution_count": 43,
     "metadata": {},
     "output_type": "execute_result"
    }
   ],
   "source": [
    "goal_max"
   ]
  },
  {
   "cell_type": "markdown",
   "metadata": {},
   "source": [
    "#### 上图列出了进球数最多的10支球队"
   ]
  },
  {
   "cell_type": "markdown",
   "metadata": {},
   "source": [
    "> ###### _从上述程序可以看出，Real Madrid CF队总共进球1147个，表现最好_\n",
    "\n",
    "***"
   ]
  },
  {
   "cell_type": "markdown",
   "metadata": {},
   "source": [
    "## 下面以进球数最多的Real Madrid、FC Barcelona两个队为例，按赛季查看进球数"
   ]
  },
  {
   "cell_type": "markdown",
   "metadata": {},
   "source": [
    "### 按season、home_team得到home_team_goal进球数"
   ]
  },
  {
   "cell_type": "code",
   "execution_count": 18,
   "metadata": {},
   "outputs": [],
   "source": [
    "df_home = detailed_matches.groupby(['season', 'home_team'], as_index=False).sum()[['season', 'home_team', 'home_team_goal']]"
   ]
  },
  {
   "cell_type": "code",
   "execution_count": 19,
   "metadata": {},
   "outputs": [],
   "source": [
    "df_home.rename(columns={'home_team':'team','home_team_goal':'team_goal'}, inplace=True)"
   ]
  },
  {
   "cell_type": "code",
   "execution_count": 20,
   "metadata": {},
   "outputs": [
    {
     "data": {
      "text/html": [
       "<div>\n",
       "<style scoped>\n",
       "    .dataframe tbody tr th:only-of-type {\n",
       "        vertical-align: middle;\n",
       "    }\n",
       "\n",
       "    .dataframe tbody tr th {\n",
       "        vertical-align: top;\n",
       "    }\n",
       "\n",
       "    .dataframe thead th {\n",
       "        text-align: right;\n",
       "    }\n",
       "</style>\n",
       "<table border=\"1\" class=\"dataframe\">\n",
       "  <thead>\n",
       "    <tr style=\"text-align: right;\">\n",
       "      <th></th>\n",
       "      <th>season</th>\n",
       "      <th>team</th>\n",
       "      <th>team_goal</th>\n",
       "    </tr>\n",
       "  </thead>\n",
       "  <tbody>\n",
       "    <tr>\n",
       "      <th>0</th>\n",
       "      <td>2008/2009</td>\n",
       "      <td>1. FC Köln</td>\n",
       "      <td>14</td>\n",
       "    </tr>\n",
       "    <tr>\n",
       "      <th>1</th>\n",
       "      <td>2008/2009</td>\n",
       "      <td>AC Bellinzona</td>\n",
       "      <td>29</td>\n",
       "    </tr>\n",
       "    <tr>\n",
       "      <th>2</th>\n",
       "      <td>2008/2009</td>\n",
       "      <td>ADO Den Haag</td>\n",
       "      <td>21</td>\n",
       "    </tr>\n",
       "    <tr>\n",
       "      <th>3</th>\n",
       "      <td>2008/2009</td>\n",
       "      <td>AJ Auxerre</td>\n",
       "      <td>18</td>\n",
       "    </tr>\n",
       "    <tr>\n",
       "      <th>4</th>\n",
       "      <td>2008/2009</td>\n",
       "      <td>AS Monaco</td>\n",
       "      <td>26</td>\n",
       "    </tr>\n",
       "  </tbody>\n",
       "</table>\n",
       "</div>"
      ],
      "text/plain": [
       "      season           team  team_goal\n",
       "0  2008/2009     1. FC Köln         14\n",
       "1  2008/2009  AC Bellinzona         29\n",
       "2  2008/2009   ADO Den Haag         21\n",
       "3  2008/2009     AJ Auxerre         18\n",
       "4  2008/2009      AS Monaco         26"
      ]
     },
     "execution_count": 20,
     "metadata": {},
     "output_type": "execute_result"
    }
   ],
   "source": [
    "df_home.head()"
   ]
  },
  {
   "cell_type": "markdown",
   "metadata": {},
   "source": [
    "### 按season、away_team得到away_team_goal进球数"
   ]
  },
  {
   "cell_type": "code",
   "execution_count": 21,
   "metadata": {},
   "outputs": [],
   "source": [
    "df_away = detailed_matches.groupby(['season', 'away_team'], as_index=False).sum()[['season', 'away_team', 'away_team_goal']]"
   ]
  },
  {
   "cell_type": "code",
   "execution_count": 22,
   "metadata": {},
   "outputs": [],
   "source": [
    "df_away.rename(columns={'away_team':'team','away_team_goal':'team_goal'}, inplace=True)"
   ]
  },
  {
   "cell_type": "code",
   "execution_count": 23,
   "metadata": {},
   "outputs": [
    {
     "data": {
      "text/html": [
       "<div>\n",
       "<style scoped>\n",
       "    .dataframe tbody tr th:only-of-type {\n",
       "        vertical-align: middle;\n",
       "    }\n",
       "\n",
       "    .dataframe tbody tr th {\n",
       "        vertical-align: top;\n",
       "    }\n",
       "\n",
       "    .dataframe thead th {\n",
       "        text-align: right;\n",
       "    }\n",
       "</style>\n",
       "<table border=\"1\" class=\"dataframe\">\n",
       "  <thead>\n",
       "    <tr style=\"text-align: right;\">\n",
       "      <th></th>\n",
       "      <th>season</th>\n",
       "      <th>team</th>\n",
       "      <th>team_goal</th>\n",
       "    </tr>\n",
       "  </thead>\n",
       "  <tbody>\n",
       "    <tr>\n",
       "      <th>0</th>\n",
       "      <td>2008/2009</td>\n",
       "      <td>1. FC Köln</td>\n",
       "      <td>21</td>\n",
       "    </tr>\n",
       "    <tr>\n",
       "      <th>1</th>\n",
       "      <td>2008/2009</td>\n",
       "      <td>AC Bellinzona</td>\n",
       "      <td>15</td>\n",
       "    </tr>\n",
       "    <tr>\n",
       "      <th>2</th>\n",
       "      <td>2008/2009</td>\n",
       "      <td>ADO Den Haag</td>\n",
       "      <td>20</td>\n",
       "    </tr>\n",
       "    <tr>\n",
       "      <th>3</th>\n",
       "      <td>2008/2009</td>\n",
       "      <td>AJ Auxerre</td>\n",
       "      <td>17</td>\n",
       "    </tr>\n",
       "    <tr>\n",
       "      <th>4</th>\n",
       "      <td>2008/2009</td>\n",
       "      <td>AS Monaco</td>\n",
       "      <td>15</td>\n",
       "    </tr>\n",
       "  </tbody>\n",
       "</table>\n",
       "</div>"
      ],
      "text/plain": [
       "      season           team  team_goal\n",
       "0  2008/2009     1. FC Köln         21\n",
       "1  2008/2009  AC Bellinzona         15\n",
       "2  2008/2009   ADO Den Haag         20\n",
       "3  2008/2009     AJ Auxerre         17\n",
       "4  2008/2009      AS Monaco         15"
      ]
     },
     "execution_count": 23,
     "metadata": {},
     "output_type": "execute_result"
    }
   ],
   "source": [
    "df_away.head()"
   ]
  },
  {
   "cell_type": "markdown",
   "metadata": {},
   "source": [
    "### 按照team、和season来执行merge"
   ]
  },
  {
   "cell_type": "code",
   "execution_count": 24,
   "metadata": {},
   "outputs": [],
   "source": [
    "df_all = pd.merge(df_home, df_away, on=['team', 'season'])"
   ]
  },
  {
   "cell_type": "code",
   "execution_count": 25,
   "metadata": {},
   "outputs": [
    {
     "data": {
      "text/html": [
       "<div>\n",
       "<style scoped>\n",
       "    .dataframe tbody tr th:only-of-type {\n",
       "        vertical-align: middle;\n",
       "    }\n",
       "\n",
       "    .dataframe tbody tr th {\n",
       "        vertical-align: top;\n",
       "    }\n",
       "\n",
       "    .dataframe thead th {\n",
       "        text-align: right;\n",
       "    }\n",
       "</style>\n",
       "<table border=\"1\" class=\"dataframe\">\n",
       "  <thead>\n",
       "    <tr style=\"text-align: right;\">\n",
       "      <th></th>\n",
       "      <th>season</th>\n",
       "      <th>team</th>\n",
       "      <th>team_goal_x</th>\n",
       "      <th>team_goal_y</th>\n",
       "    </tr>\n",
       "  </thead>\n",
       "  <tbody>\n",
       "    <tr>\n",
       "      <th>0</th>\n",
       "      <td>2008/2009</td>\n",
       "      <td>1. FC Köln</td>\n",
       "      <td>14</td>\n",
       "      <td>21</td>\n",
       "    </tr>\n",
       "    <tr>\n",
       "      <th>1</th>\n",
       "      <td>2008/2009</td>\n",
       "      <td>AC Bellinzona</td>\n",
       "      <td>29</td>\n",
       "      <td>15</td>\n",
       "    </tr>\n",
       "    <tr>\n",
       "      <th>2</th>\n",
       "      <td>2008/2009</td>\n",
       "      <td>ADO Den Haag</td>\n",
       "      <td>21</td>\n",
       "      <td>20</td>\n",
       "    </tr>\n",
       "    <tr>\n",
       "      <th>3</th>\n",
       "      <td>2008/2009</td>\n",
       "      <td>AJ Auxerre</td>\n",
       "      <td>18</td>\n",
       "      <td>17</td>\n",
       "    </tr>\n",
       "    <tr>\n",
       "      <th>4</th>\n",
       "      <td>2008/2009</td>\n",
       "      <td>AS Monaco</td>\n",
       "      <td>26</td>\n",
       "      <td>15</td>\n",
       "    </tr>\n",
       "  </tbody>\n",
       "</table>\n",
       "</div>"
      ],
      "text/plain": [
       "      season           team  team_goal_x  team_goal_y\n",
       "0  2008/2009     1. FC Köln           14           21\n",
       "1  2008/2009  AC Bellinzona           29           15\n",
       "2  2008/2009   ADO Den Haag           21           20\n",
       "3  2008/2009     AJ Auxerre           18           17\n",
       "4  2008/2009      AS Monaco           26           15"
      ]
     },
     "execution_count": 25,
     "metadata": {},
     "output_type": "execute_result"
    }
   ],
   "source": [
    "df_all.head()"
   ]
  },
  {
   "cell_type": "markdown",
   "metadata": {},
   "source": [
    "### 添加team_goal列，得到做为主队和客队的总进球数"
   ]
  },
  {
   "cell_type": "code",
   "execution_count": 33,
   "metadata": {},
   "outputs": [],
   "source": [
    "df_all['team_goal'] = df_all.team_goal_x + df_all.team_goal_y"
   ]
  },
  {
   "cell_type": "markdown",
   "metadata": {},
   "source": [
    "### 删除无用列"
   ]
  },
  {
   "cell_type": "code",
   "execution_count": 35,
   "metadata": {},
   "outputs": [],
   "source": [
    "df_all.drop(['team_goal_x', 'team_goal_y'], axis=1, inplace=True)"
   ]
  },
  {
   "cell_type": "code",
   "execution_count": 36,
   "metadata": {},
   "outputs": [
    {
     "data": {
      "text/html": [
       "<div>\n",
       "<style scoped>\n",
       "    .dataframe tbody tr th:only-of-type {\n",
       "        vertical-align: middle;\n",
       "    }\n",
       "\n",
       "    .dataframe tbody tr th {\n",
       "        vertical-align: top;\n",
       "    }\n",
       "\n",
       "    .dataframe thead th {\n",
       "        text-align: right;\n",
       "    }\n",
       "</style>\n",
       "<table border=\"1\" class=\"dataframe\">\n",
       "  <thead>\n",
       "    <tr style=\"text-align: right;\">\n",
       "      <th></th>\n",
       "      <th>season</th>\n",
       "      <th>team</th>\n",
       "      <th>team_goal</th>\n",
       "    </tr>\n",
       "  </thead>\n",
       "  <tbody>\n",
       "    <tr>\n",
       "      <th>0</th>\n",
       "      <td>2008/2009</td>\n",
       "      <td>1. FC Köln</td>\n",
       "      <td>35</td>\n",
       "    </tr>\n",
       "    <tr>\n",
       "      <th>1</th>\n",
       "      <td>2008/2009</td>\n",
       "      <td>AC Bellinzona</td>\n",
       "      <td>44</td>\n",
       "    </tr>\n",
       "    <tr>\n",
       "      <th>2</th>\n",
       "      <td>2008/2009</td>\n",
       "      <td>ADO Den Haag</td>\n",
       "      <td>41</td>\n",
       "    </tr>\n",
       "    <tr>\n",
       "      <th>3</th>\n",
       "      <td>2008/2009</td>\n",
       "      <td>AJ Auxerre</td>\n",
       "      <td>35</td>\n",
       "    </tr>\n",
       "    <tr>\n",
       "      <th>4</th>\n",
       "      <td>2008/2009</td>\n",
       "      <td>AS Monaco</td>\n",
       "      <td>41</td>\n",
       "    </tr>\n",
       "  </tbody>\n",
       "</table>\n",
       "</div>"
      ],
      "text/plain": [
       "      season           team  team_goal\n",
       "0  2008/2009     1. FC Köln         35\n",
       "1  2008/2009  AC Bellinzona         44\n",
       "2  2008/2009   ADO Den Haag         41\n",
       "3  2008/2009     AJ Auxerre         35\n",
       "4  2008/2009      AS Monaco         41"
      ]
     },
     "execution_count": 36,
     "metadata": {},
     "output_type": "execute_result"
    }
   ],
   "source": [
    "df_all.head()"
   ]
  },
  {
   "cell_type": "code",
   "execution_count": 75,
   "metadata": {},
   "outputs": [],
   "source": [
    "# df = df_all[(df_all['team'] == 'Real Madrid CF') | (df_all['team'] == 'FC Barcelona') |\n",
    "#            (df_all['team'] == 'PSV') | (df_all['team'] == 'FC Basel') |\n",
    "#            (df_all['team'] == 'SC Heerenveen')]"
   ]
  },
  {
   "cell_type": "markdown",
   "metadata": {},
   "source": [
    "#### 只取Real Madrid CF和FC Barcelona两个队"
   ]
  },
  {
   "cell_type": "code",
   "execution_count": 76,
   "metadata": {},
   "outputs": [],
   "source": [
    "df = df_all[(df_all['team'] == 'Real Madrid CF') | (df_all['team'] == 'FC Barcelona')]"
   ]
  },
  {
   "cell_type": "code",
   "execution_count": 85,
   "metadata": {},
   "outputs": [
    {
     "data": {
      "text/html": [
       "<div>\n",
       "<style scoped>\n",
       "    .dataframe tbody tr th:only-of-type {\n",
       "        vertical-align: middle;\n",
       "    }\n",
       "\n",
       "    .dataframe tbody tr th {\n",
       "        vertical-align: top;\n",
       "    }\n",
       "\n",
       "    .dataframe thead th {\n",
       "        text-align: right;\n",
       "    }\n",
       "</style>\n",
       "<table border=\"1\" class=\"dataframe\">\n",
       "  <thead>\n",
       "    <tr style=\"text-align: right;\">\n",
       "      <th></th>\n",
       "      <th>season</th>\n",
       "      <th>team</th>\n",
       "      <th>team_goal</th>\n",
       "    </tr>\n",
       "  </thead>\n",
       "  <tbody>\n",
       "    <tr>\n",
       "      <th>44</th>\n",
       "      <td>2008/2009</td>\n",
       "      <td>FC Barcelona</td>\n",
       "      <td>105</td>\n",
       "    </tr>\n",
       "    <tr>\n",
       "      <th>136</th>\n",
       "      <td>2008/2009</td>\n",
       "      <td>Real Madrid CF</td>\n",
       "      <td>83</td>\n",
       "    </tr>\n",
       "    <tr>\n",
       "      <th>233</th>\n",
       "      <td>2009/2010</td>\n",
       "      <td>FC Barcelona</td>\n",
       "      <td>98</td>\n",
       "    </tr>\n",
       "    <tr>\n",
       "      <th>318</th>\n",
       "      <td>2009/2010</td>\n",
       "      <td>Real Madrid CF</td>\n",
       "      <td>102</td>\n",
       "    </tr>\n",
       "    <tr>\n",
       "      <th>420</th>\n",
       "      <td>2010/2011</td>\n",
       "      <td>FC Barcelona</td>\n",
       "      <td>95</td>\n",
       "    </tr>\n",
       "    <tr>\n",
       "      <th>503</th>\n",
       "      <td>2010/2011</td>\n",
       "      <td>Real Madrid CF</td>\n",
       "      <td>102</td>\n",
       "    </tr>\n",
       "    <tr>\n",
       "      <th>601</th>\n",
       "      <td>2011/2012</td>\n",
       "      <td>FC Barcelona</td>\n",
       "      <td>114</td>\n",
       "    </tr>\n",
       "    <tr>\n",
       "      <th>689</th>\n",
       "      <td>2011/2012</td>\n",
       "      <td>Real Madrid CF</td>\n",
       "      <td>121</td>\n",
       "    </tr>\n",
       "    <tr>\n",
       "      <th>779</th>\n",
       "      <td>2012/2013</td>\n",
       "      <td>FC Barcelona</td>\n",
       "      <td>115</td>\n",
       "    </tr>\n",
       "    <tr>\n",
       "      <th>869</th>\n",
       "      <td>2012/2013</td>\n",
       "      <td>Real Madrid CF</td>\n",
       "      <td>103</td>\n",
       "    </tr>\n",
       "    <tr>\n",
       "      <th>970</th>\n",
       "      <td>2013/2014</td>\n",
       "      <td>FC Barcelona</td>\n",
       "      <td>100</td>\n",
       "    </tr>\n",
       "    <tr>\n",
       "      <th>1051</th>\n",
       "      <td>2013/2014</td>\n",
       "      <td>Real Madrid CF</td>\n",
       "      <td>104</td>\n",
       "    </tr>\n",
       "    <tr>\n",
       "      <th>1146</th>\n",
       "      <td>2014/2015</td>\n",
       "      <td>FC Barcelona</td>\n",
       "      <td>110</td>\n",
       "    </tr>\n",
       "    <tr>\n",
       "      <th>1236</th>\n",
       "      <td>2014/2015</td>\n",
       "      <td>Real Madrid CF</td>\n",
       "      <td>118</td>\n",
       "    </tr>\n",
       "    <tr>\n",
       "      <th>1334</th>\n",
       "      <td>2015/2016</td>\n",
       "      <td>FC Barcelona</td>\n",
       "      <td>112</td>\n",
       "    </tr>\n",
       "    <tr>\n",
       "      <th>1420</th>\n",
       "      <td>2015/2016</td>\n",
       "      <td>Real Madrid CF</td>\n",
       "      <td>110</td>\n",
       "    </tr>\n",
       "  </tbody>\n",
       "</table>\n",
       "</div>"
      ],
      "text/plain": [
       "         season            team  team_goal\n",
       "44    2008/2009    FC Barcelona        105\n",
       "136   2008/2009  Real Madrid CF         83\n",
       "233   2009/2010    FC Barcelona         98\n",
       "318   2009/2010  Real Madrid CF        102\n",
       "420   2010/2011    FC Barcelona         95\n",
       "503   2010/2011  Real Madrid CF        102\n",
       "601   2011/2012    FC Barcelona        114\n",
       "689   2011/2012  Real Madrid CF        121\n",
       "779   2012/2013    FC Barcelona        115\n",
       "869   2012/2013  Real Madrid CF        103\n",
       "970   2013/2014    FC Barcelona        100\n",
       "1051  2013/2014  Real Madrid CF        104\n",
       "1146  2014/2015    FC Barcelona        110\n",
       "1236  2014/2015  Real Madrid CF        118\n",
       "1334  2015/2016    FC Barcelona        112\n",
       "1420  2015/2016  Real Madrid CF        110"
      ]
     },
     "execution_count": 85,
     "metadata": {},
     "output_type": "execute_result"
    }
   ],
   "source": [
    "df"
   ]
  },
  {
   "cell_type": "code",
   "execution_count": 86,
   "metadata": {},
   "outputs": [
    {
     "data": {
      "text/html": [
       "<div>\n",
       "<style scoped>\n",
       "    .dataframe tbody tr th:only-of-type {\n",
       "        vertical-align: middle;\n",
       "    }\n",
       "\n",
       "    .dataframe tbody tr th {\n",
       "        vertical-align: top;\n",
       "    }\n",
       "\n",
       "    .dataframe thead th {\n",
       "        text-align: right;\n",
       "    }\n",
       "</style>\n",
       "<table border=\"1\" class=\"dataframe\">\n",
       "  <thead>\n",
       "    <tr style=\"text-align: right;\">\n",
       "      <th></th>\n",
       "      <th></th>\n",
       "      <th>team_goal</th>\n",
       "    </tr>\n",
       "    <tr>\n",
       "      <th>team</th>\n",
       "      <th>season</th>\n",
       "      <th></th>\n",
       "    </tr>\n",
       "  </thead>\n",
       "  <tbody>\n",
       "    <tr>\n",
       "      <th rowspan=\"8\" valign=\"top\">FC Barcelona</th>\n",
       "      <th>2008/2009</th>\n",
       "      <td>105</td>\n",
       "    </tr>\n",
       "    <tr>\n",
       "      <th>2009/2010</th>\n",
       "      <td>98</td>\n",
       "    </tr>\n",
       "    <tr>\n",
       "      <th>2010/2011</th>\n",
       "      <td>95</td>\n",
       "    </tr>\n",
       "    <tr>\n",
       "      <th>2011/2012</th>\n",
       "      <td>114</td>\n",
       "    </tr>\n",
       "    <tr>\n",
       "      <th>2012/2013</th>\n",
       "      <td>115</td>\n",
       "    </tr>\n",
       "    <tr>\n",
       "      <th>2013/2014</th>\n",
       "      <td>100</td>\n",
       "    </tr>\n",
       "    <tr>\n",
       "      <th>2014/2015</th>\n",
       "      <td>110</td>\n",
       "    </tr>\n",
       "    <tr>\n",
       "      <th>2015/2016</th>\n",
       "      <td>112</td>\n",
       "    </tr>\n",
       "    <tr>\n",
       "      <th rowspan=\"8\" valign=\"top\">Real Madrid CF</th>\n",
       "      <th>2008/2009</th>\n",
       "      <td>83</td>\n",
       "    </tr>\n",
       "    <tr>\n",
       "      <th>2009/2010</th>\n",
       "      <td>102</td>\n",
       "    </tr>\n",
       "    <tr>\n",
       "      <th>2010/2011</th>\n",
       "      <td>102</td>\n",
       "    </tr>\n",
       "    <tr>\n",
       "      <th>2011/2012</th>\n",
       "      <td>121</td>\n",
       "    </tr>\n",
       "    <tr>\n",
       "      <th>2012/2013</th>\n",
       "      <td>103</td>\n",
       "    </tr>\n",
       "    <tr>\n",
       "      <th>2013/2014</th>\n",
       "      <td>104</td>\n",
       "    </tr>\n",
       "    <tr>\n",
       "      <th>2014/2015</th>\n",
       "      <td>118</td>\n",
       "    </tr>\n",
       "    <tr>\n",
       "      <th>2015/2016</th>\n",
       "      <td>110</td>\n",
       "    </tr>\n",
       "  </tbody>\n",
       "</table>\n",
       "</div>"
      ],
      "text/plain": [
       "                          team_goal\n",
       "team           season              \n",
       "FC Barcelona   2008/2009        105\n",
       "               2009/2010         98\n",
       "               2010/2011         95\n",
       "               2011/2012        114\n",
       "               2012/2013        115\n",
       "               2013/2014        100\n",
       "               2014/2015        110\n",
       "               2015/2016        112\n",
       "Real Madrid CF 2008/2009         83\n",
       "               2009/2010        102\n",
       "               2010/2011        102\n",
       "               2011/2012        121\n",
       "               2012/2013        103\n",
       "               2013/2014        104\n",
       "               2014/2015        118\n",
       "               2015/2016        110"
      ]
     },
     "execution_count": 86,
     "metadata": {},
     "output_type": "execute_result"
    }
   ],
   "source": [
    "df_sum = df.groupby(['team', 'season'], as_index=True).sum()\n",
    "df_sum"
   ]
  },
  {
   "cell_type": "code",
   "execution_count": 87,
   "metadata": {},
   "outputs": [],
   "source": [
    "goal_sum = df.groupby(['team', 'season'], as_index=True).sum()['team_goal']"
   ]
  },
  {
   "cell_type": "code",
   "execution_count": 88,
   "metadata": {},
   "outputs": [
    {
     "data": {
      "text/plain": [
       "team            season   \n",
       "FC Barcelona    2008/2009    105\n",
       "                2009/2010     98\n",
       "                2010/2011     95\n",
       "                2011/2012    114\n",
       "                2012/2013    115\n",
       "                2013/2014    100\n",
       "                2014/2015    110\n",
       "                2015/2016    112\n",
       "Real Madrid CF  2008/2009     83\n",
       "                2009/2010    102\n",
       "                2010/2011    102\n",
       "                2011/2012    121\n",
       "                2012/2013    103\n",
       "                2013/2014    104\n",
       "                2014/2015    118\n",
       "                2015/2016    110\n",
       "Name: team_goal, dtype: int64"
      ]
     },
     "execution_count": 88,
     "metadata": {},
     "output_type": "execute_result"
    }
   ],
   "source": [
    "goal_sum"
   ]
  },
  {
   "cell_type": "code",
   "execution_count": 91,
   "metadata": {},
   "outputs": [],
   "source": [
    "FC_goals = goal_sum['FC Barcelona']"
   ]
  },
  {
   "cell_type": "code",
   "execution_count": 93,
   "metadata": {},
   "outputs": [],
   "source": [
    "Real_goals = goal_sum['Real Madrid CF']"
   ]
  },
  {
   "cell_type": "code",
   "execution_count": 105,
   "metadata": {},
   "outputs": [],
   "source": [
    "ind = np.arange(len(FC_goals))  # 组的 x 坐标位置\n",
    "width = 0.25       # 条柱的宽度"
   ]
  },
  {
   "cell_type": "code",
   "execution_count": 133,
   "metadata": {},
   "outputs": [
    {
     "data": {
      "image/png": "[encoded data removed]",
      "text/plain": [
       "<Figure size 1080x523.44 with 1 Axes>"
      ]
     },
     "metadata": {},
     "output_type": "display_data"
    }
   ],
   "source": [
    "plt.figure(figsize=(15, 7.27))\n",
    "# 绘制条柱\n",
    "fc_bars = plt.barh(ind, FC_goals, width, color='r', alpha=.7, label='FC Barcelona')\n",
    "real_bars = plt.barh(ind + width, Real_goals, width, color='b', alpha=.7, label='Real Madrid CF')\n",
    "\n",
    "# 标题和标签\n",
    "plt.ylabel('Season')\n",
    "plt.xlabel('Goal')\n",
    "plt.title('Goal by Season')\n",
    "locations = ind + width / 2  # x 坐标刻度位置\n",
    "labels = ['2008/2009', '2009/2010', '2010/2011', '2011/2012', '2012/2013', '2013/2014', '2014/2015', '2015/2016']  # x 坐标刻度标签\n",
    "# plt.xticks(locations, labels)\n",
    "plt.yticks(locations, labels)\n",
    "\n",
    "# 图例\n",
    "plt.legend();"
   ]
  },
  {
   "cell_type": "code",
   "execution_count": 152,
   "metadata": {},
   "outputs": [
    {
     "data": {
      "image/png": "[encoded data removed]",
      "text/plain": [
       "<Figure size 1080x523.44 with 1 Axes>"
      ]
     },
     "metadata": {},
     "output_type": "display_data"
    }
   ],
   "source": [
    "plt.figure(figsize=(15, 7.27))\n",
    "plt.plot(FC_goals.index, FC_goals.values, color='r', label='FC Barcelona')\n",
    "plt.plot(Real_goals.index, Real_goals.values, color='b', label='Real Madrid CF')\n",
    "plt.ylabel('Goal')\n",
    "plt.xlabel('Season')\n",
    "plt.title('Goal by Season')\n",
    "plt.legend();"
   ]
  },
  {
   "cell_type": "markdown",
   "metadata": {},
   "source": [
    "> 8个赛季中，Real Madrid CF有5个赛季的进球总数比FC Barcelona队要多"
   ]
  },
  {
   "cell_type": "markdown",
   "metadata": {},
   "source": [
    "### 哪位球员受罚最多？"
   ]
  },
  {
   "cell_type": "code",
   "execution_count": 120,
   "metadata": {},
   "outputs": [
    {
     "data": {
      "text/html": [
       "<div>\n",
       "<style scoped>\n",
       "    .dataframe tbody tr th:only-of-type {\n",
       "        vertical-align: middle;\n",
       "    }\n",
       "\n",
       "    .dataframe tbody tr th {\n",
       "        vertical-align: top;\n",
       "    }\n",
       "\n",
       "    .dataframe thead th {\n",
       "        text-align: right;\n",
       "    }\n",
       "</style>\n",
       "<table border=\"1\" class=\"dataframe\">\n",
       "  <thead>\n",
       "    <tr style=\"text-align: right;\">\n",
       "      <th></th>\n",
       "      <th>player_api_id</th>\n",
       "      <th>penalties</th>\n",
       "    </tr>\n",
       "  </thead>\n",
       "  <tbody>\n",
       "    <tr>\n",
       "      <th>149594</th>\n",
       "      <td>39225</td>\n",
       "      <td>96.0</td>\n",
       "    </tr>\n",
       "    <tr>\n",
       "      <th>149593</th>\n",
       "      <td>39225</td>\n",
       "      <td>96.0</td>\n",
       "    </tr>\n",
       "    <tr>\n",
       "      <th>149592</th>\n",
       "      <td>39225</td>\n",
       "      <td>96.0</td>\n",
       "    </tr>\n",
       "    <tr>\n",
       "      <th>149591</th>\n",
       "      <td>39225</td>\n",
       "      <td>96.0</td>\n",
       "    </tr>\n",
       "    <tr>\n",
       "      <th>149595</th>\n",
       "      <td>39225</td>\n",
       "      <td>95.0</td>\n",
       "    </tr>\n",
       "  </tbody>\n",
       "</table>\n",
       "</div>"
      ],
      "text/plain": [
       "        player_api_id  penalties\n",
       "149594          39225       96.0\n",
       "149593          39225       96.0\n",
       "149592          39225       96.0\n",
       "149591          39225       96.0\n",
       "149595          39225       95.0"
      ]
     },
     "execution_count": 120,
     "metadata": {},
     "output_type": "execute_result"
    }
   ],
   "source": [
    "player_attributes[['player_api_id','penalties']].sort_values(by='penalties',ascending=False).head()"
   ]
  },
  {
   "cell_type": "code",
   "execution_count": 81,
   "metadata": {},
   "outputs": [
    {
     "data": {
      "text/html": [
       "<div>\n",
       "<style scoped>\n",
       "    .dataframe tbody tr th:only-of-type {\n",
       "        vertical-align: middle;\n",
       "    }\n",
       "\n",
       "    .dataframe tbody tr th {\n",
       "        vertical-align: top;\n",
       "    }\n",
       "\n",
       "    .dataframe thead th {\n",
       "        text-align: right;\n",
       "    }\n",
       "</style>\n",
       "<table border=\"1\" class=\"dataframe\">\n",
       "  <thead>\n",
       "    <tr style=\"text-align: right;\">\n",
       "      <th></th>\n",
       "      <th>id</th>\n",
       "      <th>player_api_id</th>\n",
       "      <th>player_name</th>\n",
       "      <th>player_fifa_api_id</th>\n",
       "      <th>birthday</th>\n",
       "      <th>height</th>\n",
       "      <th>weight</th>\n",
       "    </tr>\n",
       "  </thead>\n",
       "  <tbody>\n",
       "    <tr>\n",
       "      <th>8967</th>\n",
       "      <td>8981</td>\n",
       "      <td>39225</td>\n",
       "      <td>Rickie Lambert</td>\n",
       "      <td>13879</td>\n",
       "      <td>1982-02-16 00:00:00</td>\n",
       "      <td>187.96</td>\n",
       "      <td>170</td>\n",
       "    </tr>\n",
       "  </tbody>\n",
       "</table>\n",
       "</div>"
      ],
      "text/plain": [
       "        id  player_api_id     player_name  player_fifa_api_id  \\\n",
       "8967  8981          39225  Rickie Lambert               13879   \n",
       "\n",
       "                 birthday  height  weight  \n",
       "8967  1982-02-16 00:00:00  187.96     170  "
      ]
     },
     "execution_count": 81,
     "metadata": {},
     "output_type": "execute_result"
    }
   ],
   "source": [
    "# 根据受罚最多的player_api_id得到球员姓名\n",
    "players[players['player_api_id'] == 39225]"
   ]
  },
  {
   "cell_type": "markdown",
   "metadata": {},
   "source": [
    "> ###### _根据penalties属性，球员Rickie Lambert受罚最多_\n",
    "\n",
    "***"
   ]
  },
  {
   "cell_type": "markdown",
   "metadata": {},
   "source": [
    "<a id='conclusions'></a>\n",
    "## 结论\n",
    "\n",
    "> 本分析是从进球数来判断一个球队是否表现好，可能还存在其他判断依据。Real Madrid CF是2008年到2016年间进球最多的一个球队。\n",
    "\n",
    "> 在Player_Attributes这个表中，penalties列代表“处罚”之意，根据该列，Rickie Lambert这名球员所受到的处罚最多。可能还存在其他判断条件。"
   ]
  }
 ],
 "metadata": {
  "kernelspec": {
   "display_name": "Python 3",
   "language": "python",
   "name": "python3"
  },
  "language_info": {
   "codemirror_mode": {
    "name": "ipython",
    "version": 3
   },
   "file_extension": ".py",
   "mimetype": "text/x-python",
   "name": "python",
   "nbconvert_exporter": "python",
   "pygments_lexer": "ipython3",
   "version": "3.6.4"
  }
 },
 "nbformat": 4,
 "nbformat_minor": 2
}
